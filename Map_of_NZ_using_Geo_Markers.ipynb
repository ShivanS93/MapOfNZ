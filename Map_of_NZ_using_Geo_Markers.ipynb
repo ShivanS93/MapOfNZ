{
 "cells": [
  {
   "cell_type": "markdown",
   "metadata": {},
   "source": [
    "# Map of NZ using Geodetic Markers\n",
    "\n",
    "In this project, we are going to use a geodetic markers to build a map of New Zealand.\n",
    "\n",
    "First, What are \"Geodetic makers\"?\n",
    "\n",
    "To answer, we need a short story.\n",
    "\n",
    "In December of 2020, I took a small family holiday to [Mt. Maunganui](https://www.newzealand.com/int/mount-maunganui/). Of the many activiies or lack there of, we devided to climb [Mauao](https://en.wikipedia.org/wiki/Mount_Maunganui_(mountain))... twice.\n",
    "\n",
    "At the summit, you are welcomed by a geodetic marker. And also amazing views of the township and beach.\n",
    "\n",
    "Here, I thought of an idea to map all the markers in New Zealand and colour them based on elevation.\n",
    "\n",
    "### Learning Points\n",
    "\n",
    "Before we get stuck in, we will have a look at some learning points, which this post will provide.\n",
    "* How to use pandas to load .csv data\n",
    "* How to vary alpha in matplotlib using cmap\n",
    "* pandas groupby method and aggregation\n",
    "\n",
    "### How to access the data\n",
    "\n",
    "To get a hold of the data we are going to use the [Koordinates website](https://koordinates.com/). This company is responsible for housing most the geospatial data for New Zealand. We will require to create an account to access this data but will is completely free.\n",
    "\n",
    "We can search for [NZ Geodetic Vertical Marks](https://koordinates.com/from/data.linz.govt.nz/layer/50784/). This data is curated by the members of [Land Information New Zealand website](https://www.linz.govt.nz/). Selecting *Vertical Marks* gives us heights in a particular format.\n",
    "\n",
    "When it comes to heights, a simple measurement isn't that simple.\n",
    "\n",
    "Without getting into too much detail, vertical datums resemble what is known as normal-orthometric heights. This is what we are most familiar with as height above sea level. Normal-orthometric height is actually the mean/average heights at sea level (as sea level can change with tide).\n",
    "\n",
    "Ellipsoidal heights is another form of height, which approximates Earth as a ellipsoid and uses this as a point of reference.\n",
    "\n",
    "[The LINZ website goes into this with more detail](https://www.linz.govt.nz/data/geodetic-system/datums-projections-and-heights/vertical-datums)."
   ]
  },
  {
   "cell_type": "markdown",
   "metadata": {},
   "source": [
    "### Import libraries and load data"
   ]
  },
  {
   "cell_type": "code",
   "execution_count": null,
   "metadata": {},
   "outputs": [],
   "source": [
    "import pandas as pd\n",
    "import numpy as np\n",
    "\n",
    "import random as r\n",
    "\n",
    "import matplotlib.pyplot as plt\n",
    "from matplotlib.colors import ListedColormap\n",
    "\n",
    "import matplotlib.colors as colors\n",
    "import matplotlib.cm as cmx\n",
    "import seaborn as sns\n",
    "%matplotlib inline"
   ]
  },
  {
   "cell_type": "code",
   "execution_count": null,
   "metadata": {},
   "outputs": [],
   "source": [
    "# find the name of the .csv file containing the data\n",
    "!ls ./files"
   ]
  },
  {
   "cell_type": "code",
   "execution_count": null,
   "metadata": {},
   "outputs": [],
   "source": [
    "# load into dataframe\n",
    "geomarks = pd.read_csv('files/nz-geodetic-vertical-marks.csv')\n",
    "geomarks"
   ]
  },
  {
   "cell_type": "code",
   "execution_count": null,
   "metadata": {},
   "outputs": [],
   "source": [
    "# explore the data more\n",
    "geomarks.info()"
   ]
  },
  {
   "cell_type": "markdown",
   "metadata": {},
   "source": [
    "### Exploring the Data\n",
    "\n",
    "We can see there are a total of 105,582 entries.\n",
    "\n",
    "The important features (input variables) are `shape_X`, `shape_Y`, which resemble longitude and latitude, and `normal_orthometric_height`, which is the height. These are all accounted for with no missing values.\n",
    "\n",
    "Using `shape_X` and `shape_Y`, we can actually plot this out to represent geographic space. This has probably done countless times before but when I found this out in Aurélien Géron's book *Hands On Machine Learning, 2nd edition*, it blew my mind!"
   ]
  },
  {
   "cell_type": "code",
   "execution_count": null,
   "metadata": {},
   "outputs": [],
   "source": [
    "mapNZ = geomarks.plot(kind='scatter', x='shape_X', y='shape_Y',  figsize=(15,15))\n",
    "ax = plt.axis('off')"
   ]
  },
  {
   "cell_type": "markdown",
   "metadata": {},
   "source": [
    "Look familiar? It's New Zealand. \n",
    "\n",
    "There are so many markers 105,582 to be exact. So, let's reduce the size of the markers. We can alter parameters:\n",
    "* `alpha` - this is the opacity of the marker\n",
    "* `s` - size of the marker"
   ]
  },
  {
   "cell_type": "code",
   "execution_count": null,
   "metadata": {},
   "outputs": [],
   "source": [
    "mapNZ = geomarks.plot(kind='scatter', x='shape_X', y='shape_Y', \n",
    "                       figsize=(15,15), alpha=1.0, s=0.1)\n",
    "ax = plt.axis('off')"
   ]
  },
  {
   "cell_type": "markdown",
   "metadata": {},
   "source": [
    "Now we can apply a color based on vertical height.\n",
    "\n",
    "You can see what some of the important parameters such as:\n",
    "* `c` - this is colours of the points\n",
    "* `cmap` - this provides the colour scheme; we will be using 'jet'\n"
   ]
  },
  {
   "cell_type": "code",
   "execution_count": null,
   "metadata": {},
   "outputs": [],
   "source": [
    "mapNZ = geomarks.plot(kind='scatter', x='shape_X', y='shape_Y', \n",
    "                            figsize=(15,15), s=geomarks['normal_orthometric_height']/100,\n",
    "                            c='normal_orthometric_height', cmap=plt.get_cmap('jet'), colorbar=True)\n",
    "\n",
    "ax = plt.axis('off')"
   ]
  },
  {
   "cell_type": "markdown",
   "metadata": {},
   "source": [
    "You may notice that the lower points are drowning out the higher ones despite varying the marker size by vertical height.\n",
    "\n",
    "We can further see this by exploring the vertical heights. Plotting them out, we see a majority at the lower end as you would expect. The data is considered tail heavy."
   ]
  },
  {
   "cell_type": "code",
   "execution_count": null,
   "metadata": {},
   "outputs": [],
   "source": [
    "heights = geomarks['normal_orthometric_height']\n",
    "heights.describe()"
   ]
  },
  {
   "cell_type": "code",
   "execution_count": null,
   "metadata": {},
   "outputs": [],
   "source": [
    "height_graphs = heights.plot(kind='hist', bins=50, figsize=(15,5), title='Histogram of Heights')"
   ]
  },
  {
   "cell_type": "markdown",
   "metadata": {},
   "source": [
    "What we can then do is vary the alpha through the cmap. We take the cmap and change the alpha with the colder colours being associated with lower vertical heights also having lower alpha compared to warmer colour with greater heights."
   ]
  },
  {
   "cell_type": "code",
   "execution_count": null,
   "metadata": {},
   "outputs": [],
   "source": [
    "x = geomarks['shape_X']\n",
    "y = geomarks['shape_Y']\n",
    "c = geomarks['normal_orthometric_height']\n",
    "s = geomarks['normal_orthometric_height']/50\n",
    "\n",
    "cmap = plt.cm.jet\n",
    "my_cmap = cmap(np.arange(cmap.N))\n",
    "my_cmap[:, -1] = np.linspace(0, 1, cmap.N)\n",
    "\n",
    "my_cmap = ListedColormap(my_cmap)\n",
    "\n",
    "plt.figure(figsize=(15,15))\n",
    "plt.scatter(x, y, c=c, s=s, cmap=my_cmap)\n",
    "ax = plt.axis('off')\n",
    "cbar = plt.colorbar()"
   ]
  },
  {
   "cell_type": "markdown",
   "metadata": {},
   "source": [
    "And here we have our map that we intended to create.\n",
    "\n",
    "But let's not stop there! Let's look at other aspects of the data."
   ]
  },
  {
   "cell_type": "markdown",
   "metadata": {},
   "source": [
    "### Further Data Exploration\n",
    "\n",
    "Let's look markers per district. Then, we can plot this data onto a bar chart."
   ]
  },
  {
   "cell_type": "code",
   "execution_count": null,
   "metadata": {},
   "outputs": [],
   "source": [
    "geomarks['land_district'] = geomarks['land_district'].astype('str')\n",
    "by_district = geomarks['land_district'].value_counts()\n",
    "by_district"
   ]
  },
  {
   "cell_type": "markdown",
   "metadata": {},
   "source": [
    "We can see there are actually some `nan`, which are hidden only if we convert the column type to a string. So we need to drop these."
   ]
  },
  {
   "cell_type": "code",
   "execution_count": null,
   "metadata": {},
   "outputs": [],
   "source": [
    "geomarks = geomarks[geomarks['land_district']!='nan']\n",
    "by_district = geomarks['land_district'].value_counts()\n",
    "by_district"
   ]
  },
  {
   "cell_type": "markdown",
   "metadata": {},
   "source": [
    "Here, the `nan` has been removed"
   ]
  },
  {
   "cell_type": "code",
   "execution_count": null,
   "metadata": {},
   "outputs": [],
   "source": [
    "by_district.plot(kind='bar', title='Number of Marks by district', figsize=(7,7))\n",
    "plt.show()"
   ]
  },
  {
   "cell_type": "markdown",
   "metadata": {},
   "source": [
    "Next, let's look at the average heights of each district. We do this using `grouby` and `agg` or aggregation. We will also drop extra columns to aid readability"
   ]
  },
  {
   "cell_type": "code",
   "execution_count": null,
   "metadata": {},
   "outputs": [],
   "source": [
    "district_group = geomarks.groupby('land_district') # groups data by district\n",
    "district_means = district_group.agg(['mean', 'sem']) # 'sem' means standard error sem = std / n ** (1/2)\n",
    "district_means = district_means.drop(['id', 'nod_id', 'shape_X', 'shape_Y'], axis=1) # dropping extra columns for readability\n",
    "district_means = district_means.sort_values(by=('normal_orthometric_height', 'mean'), ascending=False)\n",
    "district_means"
   ]
  },
  {
   "cell_type": "code",
   "execution_count": null,
   "metadata": {},
   "outputs": [],
   "source": [
    "x = district_means[('normal_orthometric_height', 'mean')]\n",
    "err = district_means[('normal_orthometric_height', 'sem')]\n",
    "\n",
    "plt.figure(figsize=(15,15))\n",
    "\n",
    "plt.barh(y=x.index, width=x.values, xerr=err, capsize=5)\n",
    "\n",
    "plt.title('Mean Heights per District')\n",
    "plt.xlabel('Mean of Height')\n",
    "plt.ylabel('District')\n",
    "plt.show()"
   ]
  },
  {
   "cell_type": "markdown",
   "metadata": {},
   "source": [
    "We can see that Otago on average as has the highest markers.\n",
    "\n",
    "Let's go back to the New Zealand map. What we are going to do different is that we are going to plot points but use categorical colours. This will be based on district."
   ]
  },
  {
   "cell_type": "code",
   "execution_count": null,
   "metadata": {},
   "outputs": [],
   "source": [
    "x = geomarks['shape_X']\n",
    "y = geomarks['shape_Y']\n",
    "s = geomarks['normal_orthometric_height'] / 200\n",
    "\n",
    "plt.figure(figsize=(15,15))\n",
    "\n",
    "colour_labels = list(district_means.index) # turns districts into a list\n",
    "rgb_values = sns.color_palette('rocket', len(colour_labels)) # use seaborn to create colours\n",
    "colour_map = dict(zip(colour_labels, rgb_values)) # create a dict of district as keys and colours as values\n",
    "\n",
    "NZ_d_map = plt.scatter(x, y, alpha=1.0, s=s, c=geomarks['land_district'].map(colour_map), label=colour_labels)\n",
    "plt.legend()\n",
    "ax = plt.axis('off')"
   ]
  },
  {
   "cell_type": "markdown",
   "metadata": {},
   "source": [
    "## References\n",
    "\n",
    "1. Mount Maunganui - Things to see and do - North Island | New Zealand. (n.d.). Www.Newzealand.com. https://www.newzealand.com/int/mount-maunganui/\n",
    "2. Mount Maunganui (mountain). (2020, November 20). Wikipedia. https://en.wikipedia.org/wiki/Mount_Maunganui_(mountain)\n",
    "3. Koordinates — Earth’s Data Platform. (n.d.). Koordinates.com. https://koordinates.com/\n",
    "4. NZ Geodetic Vertical Marks. (n.d.). Koordinates.com. Retrieved December 11, 2020, from https://koordinates.com/from/data.linz.govt.nz/layer/50784/\n",
    "5. Land Information New Zealand (LINZ). (n.d.). Land Information New Zealand (LINZ). https://www.linz.govt.nz/\n",
    "6. Vertical datums. (n.d.). Land Information New Zealand (LINZ). Retrieved December 11, 2020, from https://www.linz.govt.nz/data/geodetic-system/datums-projections-and-heights/vertical-datums\n",
    "7. (2019). Chapter 2: End-to-End Machine Learning Project [Review of Chapter 2: End-to-End Machine Learning Project]. In Hands on Machine Learning (pp. 35–84). O’Reily.\n",
    "8. Python R. Plot With Pandas: Python Data Visualization for Beginners – Real Python. realpython.com. Accessed December 11, 2020. https://realpython.com/pandas-plot-python/\n",
    "9. How to Normalize a Pandas DataFrame Column. CodeSpeedy. Published February 19, 2020. Accessed December 11, 2020. https://www.codespeedy.com/normalize-a-pandas-dataframe-column/\n",
    "10. Abdishakur. (2020, April 29). How to make Value-By-Alpha Maps in Python. Retrieved from Medium website: https://towardsdatascience.com/how-to-make-value-by-alpha-maps-in-python-484722160490\n",
    "11. Python Data Analysis Library — pandas: Python Data Analysis Library. Pydata.org. Published 2018. https://pandas.pydata.org/\n",
    "12. Python Pandas - GroupBy - Tutorialspoint. www.tutorialspoint.com. Accessed December 14, 2020. https://www.tutorialspoint.com/python_pandas/python_pandas_groupby.htm\n",
    "13. Matplotlib Scatter Plot Color by Category in Python. kanoki. Published August 30, 2020. Accessed December 15, 2020. https://kanoki.org/2020/08/30/matplotlib-scatter-plot-color-by-category-in-python/"
   ]
  },
  {
   "cell_type": "code",
   "execution_count": null,
   "metadata": {},
   "outputs": [],
   "source": []
  }
 ],
 "metadata": {
  "kernelspec": {
   "display_name": "Python 3",
   "language": "python",
   "name": "python3"
  },
  "language_info": {
   "codemirror_mode": {
    "name": "ipython",
    "version": 3
   },
   "file_extension": ".py",
   "mimetype": "text/x-python",
   "name": "python",
   "nbconvert_exporter": "python",
   "pygments_lexer": "ipython3",
   "version": "3.7.8"
  }
 },
 "nbformat": 4,
 "nbformat_minor": 4
}
